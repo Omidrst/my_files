{
 "cells": [
  {
   "cell_type": "code",
   "execution_count": 1,
   "id": "99e81b32",
   "metadata": {},
   "outputs": [
    {
     "name": "stdout",
     "output_type": "stream",
     "text": [
      "hello world\n"
     ]
    }
   ],
   "source": [
    "print(\"hello world\")"
   ]
  },
  {
   "cell_type": "code",
   "execution_count": 2,
   "id": "c0eb75c5",
   "metadata": {},
   "outputs": [],
   "source": [
    "mylist=[3 , 5 , 2 , 4]"
   ]
  },
  {
   "cell_type": "code",
   "execution_count": 3,
   "id": "9b4f4a9e",
   "metadata": {},
   "outputs": [],
   "source": [
    "mylist= mylist.sort()"
   ]
  },
  {
   "cell_type": "code",
   "execution_count": 10,
   "id": "bc715a0f",
   "metadata": {},
   "outputs": [],
   "source": [
    "newlist=['omid','amin']"
   ]
  },
  {
   "cell_type": "code",
   "execution_count": 11,
   "id": "abb842fd",
   "metadata": {},
   "outputs": [],
   "source": [
    "newlist.sort()"
   ]
  },
  {
   "cell_type": "code",
   "execution_count": 12,
   "id": "c2d2add4",
   "metadata": {},
   "outputs": [
    {
     "name": "stdout",
     "output_type": "stream",
     "text": [
      "['amin', 'omid']\n"
     ]
    }
   ],
   "source": [
    "print(newlist)"
   ]
  },
  {
   "cell_type": "code",
   "execution_count": null,
   "id": "1bc0587a",
   "metadata": {},
   "outputs": [],
   "source": []
  }
 ],
 "metadata": {
  "kernelspec": {
   "display_name": "Python 3 (ipykernel)",
   "language": "python",
   "name": "python3"
  },
  "language_info": {
   "codemirror_mode": {
    "name": "ipython",
    "version": 3
   },
   "file_extension": ".py",
   "mimetype": "text/x-python",
   "name": "python",
   "nbconvert_exporter": "python",
   "pygments_lexer": "ipython3",
   "version": "3.9.7"
  }
 },
 "nbformat": 4,
 "nbformat_minor": 5
}
