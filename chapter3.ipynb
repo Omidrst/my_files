{
 "cells": [
  {
   "cell_type": "code",
   "execution_count": 1,
   "id": "da7e088e",
   "metadata": {},
   "outputs": [
    {
     "name": "stdout",
     "output_type": "stream",
     "text": [
      "hello world\n"
     ]
    }
   ],
   "source": [
    "print(\"hello world\")"
   ]
  },
  {
   "cell_type": "code",
   "execution_count": 2,
   "id": "d3074e3d",
   "metadata": {},
   "outputs": [],
   "source": [
    "mylist=[3 , 5 , 2 , 4]"
   ]
  },
  {
   "cell_type": "code",
   "execution_count": 3,
   "id": "41e73c57",
   "metadata": {},
   "outputs": [],
   "source": [
    "mylist= mylist.sort()"
   ]
  },
  {
   "cell_type": "code",
   "execution_count": null,
   "id": "4c8af2c1",
   "metadata": {},
   "outputs": [],
   "source": []
  }
 ],
 "metadata": {
  "kernelspec": {
   "display_name": "Python 3 (ipykernel)",
   "language": "python",
   "name": "python3"
  },
  "language_info": {
   "codemirror_mode": {
    "name": "ipython",
    "version": 3
   },
   "file_extension": ".py",
   "mimetype": "text/x-python",
   "name": "python",
   "nbconvert_exporter": "python",
   "pygments_lexer": "ipython3",
   "version": "3.9.7"
  }
 },
 "nbformat": 4,
 "nbformat_minor": 5
}
